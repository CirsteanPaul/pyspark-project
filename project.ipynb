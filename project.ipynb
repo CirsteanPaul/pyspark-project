{
 "cells": [
  {
   "cell_type": "markdown",
   "id": "3c5637c8-dfa6-482b-adf1-53bb7f7383e3",
   "metadata": {},
   "source": [
    "# ***Proiect Cirstean Paul***"
   ]
  },
  {
   "cell_type": "markdown",
   "id": "e3a4dec0-5c6f-4ada-baf2-46e2102abcb3",
   "metadata": {},
   "source": [
    "### ***Task 0*** Setup"
   ]
  },
  {
   "cell_type": "markdown",
   "id": "7adc5a38-fc8a-457f-8c0d-11df699029f9",
   "metadata": {
    "jp-MarkdownHeadingCollapsed": true
   },
   "source": [
    "#### Import all tools required for the app to work"
   ]
  },
  {
   "cell_type": "code",
   "execution_count": null,
   "id": "921324e8-f2a4-4a8b-8305-619c8a7dd97b",
   "metadata": {
    "scrolled": true
   },
   "outputs": [],
   "source": [
    "from pyspark.sql import SparkSession, Window, functions as f \n",
    "from pyspark.sql.types import StructType,StructField, StringType, List\n",
    "spark = SparkSession.builder.master(\"local[*]\").config('spark.driver.memory', '3g').getOrCreate();"
   ]
  },
  {
   "cell_type": "markdown",
   "id": "40248156-3315-4e74-aef7-0453805f70df",
   "metadata": {
    "jp-MarkdownHeadingCollapsed": true
   },
   "source": [
    "#### Read data from the files"
   ]
  },
  {
   "cell_type": "code",
   "execution_count": 2,
   "id": "2ed1a47d-4f72-4b43-ac02-23ec25cb9e82",
   "metadata": {
    "scrolled": true
   },
   "outputs": [
    {
     "name": "stderr",
     "output_type": "stream",
     "text": [
      "[Stage 0:>                                                          (0 + 8) / 9]\r"
     ]
    },
    {
     "name": "stdout",
     "output_type": "stream",
     "text": [
      "root\n",
      " |-- annotations: string (nullable = true)\n",
      " |-- contract_id: string (nullable = true)\n",
      " |-- timestamp: string (nullable = true)\n",
      " |-- value: double (nullable = true)\n",
      " |-- value_source: string (nullable = true)\n",
      "\n"
     ]
    },
    {
     "name": "stderr",
     "output_type": "stream",
     "text": [
      "                                                                                \r"
     ]
    }
   ],
   "source": [
    "raw_df = spark.read.format('json').load('./data/raw_time_series/json/');\n",
    "raw_df.printSchema();"
   ]
  },
  {
   "cell_type": "markdown",
   "id": "0152b1a0-11b1-4858-a170-90b060f468f1",
   "metadata": {
    "jp-MarkdownHeadingCollapsed": true
   },
   "source": [
    "#### Entries count"
   ]
  },
  {
   "cell_type": "code",
   "execution_count": 3,
   "id": "f0dba9c3-2643-4ed3-8bea-367882725d67",
   "metadata": {},
   "outputs": [
    {
     "name": "stderr",
     "output_type": "stream",
     "text": [
      "[Stage 1:==========================>                                (4 + 5) / 9]\r"
     ]
    },
    {
     "name": "stdout",
     "output_type": "stream",
     "text": [
      "3549246\n"
     ]
    },
    {
     "name": "stderr",
     "output_type": "stream",
     "text": [
      "                                                                                \r"
     ]
    }
   ],
   "source": [
    "print(raw_df.count());"
   ]
  },
  {
   "cell_type": "markdown",
   "id": "336ae911-b712-4916-89d2-4d28d8610b50",
   "metadata": {},
   "source": [
    "## **Task 1** Clean contract_id"
   ]
  },
  {
   "cell_type": "markdown",
   "id": "a6db49ff-322a-40a4-a883-9135ce6b3d85",
   "metadata": {},
   "source": [
    "### Analyse data set\n",
    "This column as multiple spaces which should not be present."
   ]
  },
  {
   "cell_type": "code",
   "execution_count": 4,
   "id": "10acbdc8-a662-4705-be48-11748f8e52ff",
   "metadata": {
    "scrolled": true
   },
   "outputs": [
    {
     "name": "stdout",
     "output_type": "stream",
     "text": [
      "+-------------------+\n",
      "|        contract_id|\n",
      "+-------------------+\n",
      "|  04_02 _111_CHR12 |\n",
      "|  04_02 _111_CHR12 |\n",
      "|  04 _02 _111_CHR12|\n",
      "|04 _02_ 111 _CHR12 |\n",
      "|  04_02 _111_CHR12 |\n",
      "| 04 _02_ 111 _CHR12|\n",
      "|  04 _02 _111_CHR12|\n",
      "| 04_02 _111 _CHR12 |\n",
      "|04 _02_ 111 _CHR12 |\n",
      "|04_ 02 _ 111 _CHR12|\n",
      "| 04 _02_111_ CHR12 |\n",
      "| 04 _02_111_ CHR12 |\n",
      "|  04 _02 _111_CHR12|\n",
      "|04_ 02 _ 111 _CHR12|\n",
      "|04 _02_ 111 _CHR12 |\n",
      "| 04_02 _111 _CHR12 |\n",
      "|  04_02 _111_CHR12 |\n",
      "|  04_02 _111_CHR12 |\n",
      "|04_ 02 _ 111 _CHR12|\n",
      "|  04 _02 _111_CHR12|\n",
      "+-------------------+\n",
      "only showing top 20 rows\n",
      "\n"
     ]
    }
   ],
   "source": [
    "raw_df.select(\"contract_id\").filter(f.col('contract_id').contains(\" \")).show();"
   ]
  },
  {
   "cell_type": "markdown",
   "id": "1e8e08fb-75d6-44b2-bc01-026f015bd500",
   "metadata": {},
   "source": [
    "### Solution\n",
    "\n",
    "We just replace the column with a regex which eliminates all spaces"
   ]
  },
  {
   "cell_type": "code",
   "execution_count": 5,
   "id": "8b60ddd9-18e8-46c2-b87b-e3aa258d1a28",
   "metadata": {},
   "outputs": [],
   "source": [
    "data_contract_id_cleaned_df = raw_df.withColumn(\"contract_id\", f.regexp_replace(f.col(\"contract_id\"), \"\\\\s+\", \"\"));"
   ]
  },
  {
   "cell_type": "markdown",
   "id": "0551c414-0816-49c9-96db-a8b9cb0c099b",
   "metadata": {
    "jp-MarkdownHeadingCollapsed": true
   },
   "source": [
    "### Result\n",
    "Let's filter all contract_ids which contains spaces."
   ]
  },
  {
   "cell_type": "code",
   "execution_count": 6,
   "id": "f5acbc82-d856-4711-8937-cc3f22c847c0",
   "metadata": {},
   "outputs": [
    {
     "name": "stderr",
     "output_type": "stream",
     "text": [
      "[Stage 5:>                                                          (0 + 8) / 9]\r"
     ]
    },
    {
     "name": "stdout",
     "output_type": "stream",
     "text": [
      "0\n"
     ]
    },
    {
     "name": "stderr",
     "output_type": "stream",
     "text": [
      "                                                                                \r"
     ]
    }
   ],
   "source": [
    "print(data_contract_id_cleaned_df.filter(f.col('contract_id').contains(\" \")).count());"
   ]
  },
  {
   "cell_type": "markdown",
   "id": "927ab8eb-fdd0-49e6-83a4-837434731d8a",
   "metadata": {},
   "source": [
    "## **Task 2** Clean value_source \n",
    "If the **value_source** is missing or invalid it should have the value **missing**"
   ]
  },
  {
   "cell_type": "markdown",
   "id": "8ff1034c-f290-4ba3-89ad-95ff36319150",
   "metadata": {
    "jp-MarkdownHeadingCollapsed": true
   },
   "source": [
    "### Analyse data set\n",
    "If the value_source is null we should put missing in that column. \\\n",
    "We first filter these rows to see which ones should we change. \\\n",
    "No such entries were found. So 2 entries were added. One has value_source null and the other is empty."
   ]
  },
  {
   "cell_type": "code",
   "execution_count": 7,
   "id": "a2bc4496-1a3d-44b7-b2f9-eb8d52ef5fc0",
   "metadata": {},
   "outputs": [
    {
     "name": "stderr",
     "output_type": "stream",
     "text": [
      "                                                                                \r"
     ]
    },
    {
     "name": "stdout",
     "output_type": "stream",
     "text": [
      "+---------------+------------+\n",
      "|    contract_id|value_source|\n",
      "+---------------+------------+\n",
      "|04_02_111_CHR12|            |\n",
      "|04_02_111_CHR12|        NULL|\n",
      "+---------------+------------+\n",
      "\n"
     ]
    },
    {
     "name": "stderr",
     "output_type": "stream",
     "text": [
      "                                                                                \r"
     ]
    }
   ],
   "source": [
    "(data_contract_id_cleaned_df.select(\"contract_id\", \"value_source\")\n",
    "    .filter((f.col(\"value_source\") != \"measurement\") | (f.col(\"value_source\").isNull())).show());"
   ]
  },
  {
   "cell_type": "markdown",
   "id": "ebcf61f7-4a23-46be-9afe-34771abb3e03",
   "metadata": {
    "jp-MarkdownHeadingCollapsed": true
   },
   "source": [
    "### Solution\n",
    "We realize from these rows that when ```value_source != mesurement``` we should put the value missing"
   ]
  },
  {
   "cell_type": "code",
   "execution_count": 8,
   "id": "1f8022da-f047-4a47-8507-04ecd3096229",
   "metadata": {},
   "outputs": [],
   "source": [
    "data_value_source_cleaned_df = data_contract_id_cleaned_df.withColumn(\"value_source\", \n",
    "        f.when(f.col(\"value_source\") == \"measurement\", \"measurement\").otherwise(\"missing\"));"
   ]
  },
  {
   "cell_type": "markdown",
   "id": "8f403f14-516a-4679-873b-706c725e11e6",
   "metadata": {
    "jp-MarkdownHeadingCollapsed": true
   },
   "source": [
    "### Result\n",
    "We should have 2 entries with value **missing**"
   ]
  },
  {
   "cell_type": "code",
   "execution_count": 9,
   "id": "67421e34-0a03-47d2-a637-dda1264487be",
   "metadata": {},
   "outputs": [
    {
     "name": "stderr",
     "output_type": "stream",
     "text": [
      "[Stage 13:==============>                                           (1 + 3) / 4]\r"
     ]
    },
    {
     "name": "stdout",
     "output_type": "stream",
     "text": [
      "+---------------+------------+\n",
      "|    contract_id|value_source|\n",
      "+---------------+------------+\n",
      "|04_02_111_CHR12|     missing|\n",
      "|04_02_111_CHR12|     missing|\n",
      "+---------------+------------+\n",
      "\n"
     ]
    },
    {
     "name": "stderr",
     "output_type": "stream",
     "text": [
      "                                                                                \r"
     ]
    }
   ],
   "source": [
    "data_value_source_cleaned_df.select(\"contract_id\", \"value_source\").filter(f.col(\"value_source\") != \"measurement\").show()"
   ]
  },
  {
   "cell_type": "markdown",
   "id": "6e58fe7b-cc05-4751-b895-ab17e2b4c12d",
   "metadata": {
    "jp-MarkdownHeadingCollapsed": true
   },
   "source": [
    "## **Task 3** Clean timestamp inconsistency\n",
    "Be sure that the timestamps are done by 15 minutes. (e.g. 00:30, 00:45, 01:00)"
   ]
  },
  {
   "cell_type": "markdown",
   "id": "54affc39-7536-4e61-926c-6b3860ee3251",
   "metadata": {
    "jp-MarkdownHeadingCollapsed": true
   },
   "source": [
    "### Analyse data set\n",
    "We see that there are many timestamps which does not respect the format"
   ]
  },
  {
   "cell_type": "code",
   "execution_count": 10,
   "id": "5c25e498-0555-408b-973c-7038ea88f9c4",
   "metadata": {
    "scrolled": true
   },
   "outputs": [
    {
     "name": "stdout",
     "output_type": "stream",
     "text": [
      "+------------------------+\n",
      "|timestamp               |\n",
      "+------------------------+\n",
      "|2023-01-04T00:28:14.000Z|\n",
      "|2023-01-04T16:58:28.000Z|\n",
      "|2023-01-04T20:43:21.000Z|\n",
      "|2023-01-06T22:13:19.000Z|\n",
      "|2023-01-06T23:28:02.000Z|\n",
      "|2023-01-08T13:13:09.000Z|\n",
      "|2023-01-08T14:13:25.000Z|\n",
      "|2023-01-12T20:58:25.000Z|\n",
      "|2023-01-12T23:28:19.000Z|\n",
      "|2023-01-13T16:58:10.000Z|\n",
      "+------------------------+\n",
      "only showing top 10 rows\n",
      "\n"
     ]
    },
    {
     "name": "stderr",
     "output_type": "stream",
     "text": [
      "24/04/08 13:51:50 WARN GarbageCollectionMetrics: To enable non-built-in garbage collector(s) List(G1 Concurrent GC), users should configure it(them) to spark.eventLog.gcMetrics.youngGenerationGarbageCollectors or spark.eventLog.gcMetrics.oldGenerationGarbageCollectors\n"
     ]
    }
   ],
   "source": [
    "raw_df.select(f.col(\"timestamp\")).filter(f.minute(f.col(\"timestamp\")) % 15 != 0).show(n = 10, truncate=False);"
   ]
  },
  {
   "cell_type": "markdown",
   "id": "ef3c60cb-45a9-4250-815c-3b6c51964781",
   "metadata": {
    "jp-MarkdownHeadingCollapsed": true
   },
   "source": [
    "### Solution\n",
    "We will convert the timezone to UTC because we will use unix_timestamp to convert the timestamp."
   ]
  },
  {
   "cell_type": "code",
   "execution_count": 11,
   "id": "c7b2282d-d233-4e43-915e-c055f8525aba",
   "metadata": {},
   "outputs": [],
   "source": [
    "spark.conf.set(\"spark.sql.session.timeZone\", \"UTC\");"
   ]
  },
  {
   "cell_type": "markdown",
   "id": "545d894b-8fa7-414e-ac0d-edc96f842dd6",
   "metadata": {},
   "source": [
    "First we will convert the the column to Unix. \\\n",
    "```f.date_trunc(\"minute\")``` is used to remove the seconds from the timestamps."
   ]
  },
  {
   "cell_type": "code",
   "execution_count": 12,
   "id": "aa9afde1-7dd9-44f5-8824-0ebbc742e210",
   "metadata": {},
   "outputs": [],
   "source": [
    "convertToUnix = f.unix_timestamp(f.date_trunc(\"minute\", f.col(\"timestamp\")));"
   ]
  },
  {
   "cell_type": "markdown",
   "id": "1645fedf-7db5-460a-9716-b9eaab3c5b87",
   "metadata": {},
   "source": [
    "Next we will remove the minutes from the unit time."
   ]
  },
  {
   "cell_type": "code",
   "execution_count": 13,
   "id": "f816d710-6968-432b-a12a-6a08ccbe8fe9",
   "metadata": {},
   "outputs": [],
   "source": [
    "unixWithoutMinutes = convertToUnix - f.minute(f.col('timestamp')) * 60;"
   ]
  },
  {
   "cell_type": "markdown",
   "id": "60700481-305f-4a59-b5b4-b231c38d78de",
   "metadata": {},
   "source": [
    "Lastly we need to round the minutes to the closest 15 minutes interval."
   ]
  },
  {
   "cell_type": "code",
   "execution_count": 14,
   "id": "78ef990c-0316-4854-b7cb-d1de0b2956c4",
   "metadata": {},
   "outputs": [],
   "source": [
    "roundedMinutes = f.round((f.minute(f.col('timestamp')) /15)) * 60 * 15;"
   ]
  },
  {
   "cell_type": "markdown",
   "id": "edc88a3b-7ac4-44a9-b898-bccd03bcab6c",
   "metadata": {},
   "source": [
    "Everything wrapped togheter."
   ]
  },
  {
   "cell_type": "code",
   "execution_count": 15,
   "id": "e61323f9-dad3-41c6-aafb-4e3ce77a5919",
   "metadata": {},
   "outputs": [],
   "source": [
    "data_timestamp_cleaned_df = (data_value_source_cleaned_df\n",
    "    .withColumn(\"timestamp\", (unixWithoutMinutes + roundedMinutes).cast('timestamp')));"
   ]
  },
  {
   "cell_type": "markdown",
   "id": "607cf007-e8ec-43a9-8d48-12029d6b0ead",
   "metadata": {
    "jp-MarkdownHeadingCollapsed": true
   },
   "source": [
    "### Result\n",
    "Now all timestamp are in interval of 15 minutes exactly."
   ]
  },
  {
   "cell_type": "code",
   "execution_count": 16,
   "id": "b1a3169c-60c0-43b2-94e9-330c83378185",
   "metadata": {},
   "outputs": [
    {
     "name": "stdout",
     "output_type": "stream",
     "text": [
      "+-------------------+\n",
      "|timestamp          |\n",
      "+-------------------+\n",
      "|2023-01-01 05:45:00|\n",
      "|2023-01-01 07:45:00|\n",
      "|2023-01-01 08:30:00|\n",
      "|2023-01-01 08:45:00|\n",
      "|2023-01-01 13:00:00|\n",
      "|2023-01-01 14:30:00|\n",
      "|2023-01-01 15:00:00|\n",
      "|2023-01-01 15:15:00|\n",
      "|2023-01-01 15:30:00|\n",
      "|2023-01-01 15:45:00|\n",
      "+-------------------+\n",
      "only showing top 10 rows\n",
      "\n"
     ]
    }
   ],
   "source": [
    "data_timestamp_cleaned_df.select(\"timestamp\").show(n = 10, truncate=False);"
   ]
  },
  {
   "cell_type": "markdown",
   "id": "08f4a8f8-801f-455c-8700-ee97f8740db0",
   "metadata": {
    "jp-MarkdownHeadingCollapsed": true
   },
   "source": [
    "## **Task 4** Extract the region field \n",
    "\n",
    "The ***annotations*** column has a json which contains the field **region**"
   ]
  },
  {
   "cell_type": "markdown",
   "id": "ae7405b0-5e04-49c2-b028-4584d16835e7",
   "metadata": {
    "jp-MarkdownHeadingCollapsed": true
   },
   "source": [
    "### Analyse data set\n",
    "Let's see some entries from the data set."
   ]
  },
  {
   "cell_type": "markdown",
   "id": "03d531b4-eea6-401d-b725-73454d83308b",
   "metadata": {},
   "source": [
    "First we need to declare the schema of our json column. \n",
    "We only need region so we can add only this field discarding others."
   ]
  },
  {
   "cell_type": "code",
   "execution_count": 17,
   "id": "7225022a-f297-4b08-8d4d-fe3cc2023e34",
   "metadata": {},
   "outputs": [
    {
     "name": "stdout",
     "output_type": "stream",
     "text": [
      "+------------------------------------------------------------------------------------+\n",
      "|annotations                                                                         |\n",
      "+------------------------------------------------------------------------------------+\n",
      "|{\"region\":\"Europe/Berlin\"}                                                          |\n",
      "|{\"region\":\"Europe/Berlin\"}                                                          |\n",
      "|{\"region\":\"Europe/Berlin\"}                                                          |\n",
      "|{\"region\":\"Europe/Berlin\"}                                                          |\n",
      "|{\"region\":\"Europe/Berlin\",\"events\":{\"GRID_SELL\":\"1.45940454750907\",\"PV\":\"1.473775\"}}|\n",
      "|{\"region\":\"Europe/Berlin\",\"events\":{\"PV\":\"1.266225\"}}                               |\n",
      "|{\"region\":\"Europe/Berlin\"}                                                          |\n",
      "|{\"region\":\"Europe/Berlin\"}                                                          |\n",
      "|{\"region\":\"Europe/Berlin\"}                                                          |\n",
      "|{\"region\":\"Europe/Berlin\"}                                                          |\n",
      "|{\"region\":\"Europe/Berlin\"}                                                          |\n",
      "|{\"region\":\"Europe/Berlin\"}                                                          |\n",
      "|{\"region\":\"Europe/Berlin\"}                                                          |\n",
      "|{\"region\":\"Europe/Berlin\"}                                                          |\n",
      "|{\"region\":\"Europe/Berlin\"}                                                          |\n",
      "|{\"region\":\"Europe/Berlin\"}                                                          |\n",
      "|{\"region\":\"Europe/Berlin\"}                                                          |\n",
      "|{\"region\":\"Europe/Berlin\"}                                                          |\n",
      "|{\"region\":\"Europe/Berlin\"}                                                          |\n",
      "|{\"region\":\"Europe/Berlin\"}                                                          |\n",
      "+------------------------------------------------------------------------------------+\n",
      "only showing top 20 rows\n",
      "\n"
     ]
    }
   ],
   "source": [
    "data_timestamp_cleaned_df.select(\"annotations\").show(truncate=False)"
   ]
  },
  {
   "cell_type": "markdown",
   "id": "0f9f644f-8fa4-4750-94e6-8fa58c3ac995",
   "metadata": {
    "jp-MarkdownHeadingCollapsed": true
   },
   "source": [
    "### Solution\n",
    "First we will define the schema we need. We only need the region field, everything else can be discarded."
   ]
  },
  {
   "cell_type": "code",
   "execution_count": 18,
   "id": "8d44d3f3-bd2e-40a6-b4b3-5311a5fb00d6",
   "metadata": {},
   "outputs": [],
   "source": [
    "schema = StructType([ \n",
    "    StructField(\"region\",StringType(),True), \n",
    "  ]);"
   ]
  },
  {
   "cell_type": "markdown",
   "id": "c859448c-d80b-4904-b09b-fb724dfc1fb8",
   "metadata": {},
   "source": [
    "Now we will use json_tuple to get the **region** field to a column named **region**"
   ]
  },
  {
   "cell_type": "code",
   "execution_count": 19,
   "id": "14f8c655-300e-48d1-80df-69b61bf1a79e",
   "metadata": {},
   "outputs": [],
   "source": [
    "data_with_region__df = data_timestamp_cleaned_df.withColumn('region', f.json_tuple(f.col(\"annotations\"), \"region\"));"
   ]
  },
  {
   "cell_type": "markdown",
   "id": "31109e19-3bed-406f-8914-98650628a1fd",
   "metadata": {
    "jp-MarkdownHeadingCollapsed": true
   },
   "source": [
    "### Result\n",
    "Now we will have a column named region"
   ]
  },
  {
   "cell_type": "code",
   "execution_count": 20,
   "id": "f8c8a750-982e-4b88-94d6-218175283989",
   "metadata": {},
   "outputs": [
    {
     "name": "stdout",
     "output_type": "stream",
     "text": [
      "+---------------+-------------+\n",
      "|    contract_id|       region|\n",
      "+---------------+-------------+\n",
      "|04_02_111_CHR12|Europe/Berlin|\n",
      "|04_02_111_CHR12|Europe/Berlin|\n",
      "|04_02_111_CHR12|Europe/Berlin|\n",
      "|04_02_111_CHR12|Europe/Berlin|\n",
      "|04_02_111_CHR12|Europe/Berlin|\n",
      "|04_02_111_CHR12|Europe/Berlin|\n",
      "|04_02_111_CHR12|Europe/Berlin|\n",
      "|04_02_111_CHR12|Europe/Berlin|\n",
      "|04_02_111_CHR12|Europe/Berlin|\n",
      "|04_02_111_CHR12|Europe/Berlin|\n",
      "+---------------+-------------+\n",
      "only showing top 10 rows\n",
      "\n"
     ]
    }
   ],
   "source": [
    "data_with_region__df.select(\"contract_id\", 'region').show(n=10)"
   ]
  },
  {
   "cell_type": "markdown",
   "id": "6c4fc428-1746-4f94-a53b-cc2ebeb4e0f0",
   "metadata": {
    "jp-MarkdownHeadingCollapsed": true
   },
   "source": [
    "## **Task 5** Filter invalid regions.\n",
    "There are invalid regions. Write all the entries with invalid regions in a file called InvalidClients.\n",
    "Let's analyse the data. So let's see all our regions"
   ]
  },
  {
   "cell_type": "markdown",
   "id": "c1931998-b065-4e02-9c52-3b9f0134f4af",
   "metadata": {
    "jp-MarkdownHeadingCollapsed": true
   },
   "source": [
    "### Analyse data set\n",
    "Let's see all different regions found in the data set."
   ]
  },
  {
   "cell_type": "code",
   "execution_count": 23,
   "id": "2b18eef0-8fe4-448e-b7ad-8f7089b5aa79",
   "metadata": {},
   "outputs": [
    {
     "name": "stderr",
     "output_type": "stream",
     "text": [
      "[Stage 21:=========================>                                (4 + 5) / 9]\r"
     ]
    },
    {
     "name": "stdout",
     "output_type": "stream",
     "text": [
      "+-------------+\n",
      "|       region|\n",
      "+-------------+\n",
      "|Europe/Berlin|\n",
      "|     WakaWaka|\n",
      "+-------------+\n",
      "\n"
     ]
    },
    {
     "name": "stderr",
     "output_type": "stream",
     "text": [
      "                                                                                \r"
     ]
    }
   ],
   "source": [
    "data_with_region__df.select(f.col('region')).distinct().show();"
   ]
  },
  {
   "cell_type": "markdown",
   "id": "2f08bb17-7457-43fd-b625-d3e708cc45fb",
   "metadata": {
    "jp-MarkdownHeadingCollapsed": true
   },
   "source": [
    "### Solution\n",
    "We can see there are only 2 regions Europe/Berlin which seems much more real than WakaWaka. \\\n",
    "So for this specific dataset we just remove WakaWaka entries."
   ]
  },
  {
   "cell_type": "markdown",
   "id": "61ceb240-4d64-41f0-9cfc-e0872228a041",
   "metadata": {},
   "source": [
    "First let's create a dataset with all the WakaWaka entries and write them to InvalidClients folder."
   ]
  },
  {
   "cell_type": "code",
   "execution_count": null,
   "id": "034dade0-cd35-4aa0-8ebd-8fd25c248217",
   "metadata": {},
   "outputs": [],
   "source": [
    "(data_with_region__df.filter(f.col('region') == \"WakaWaka\")\n",
    "    .write.format('csv').option('header', 'true').save('./data/InvalidClients'));"
   ]
  },
  {
   "cell_type": "markdown",
   "id": "9bdb4f37-a2ea-43ba-b9c7-a7dd00df9e2b",
   "metadata": {},
   "source": [
    "Now filter the data set."
   ]
  },
  {
   "cell_type": "code",
   "execution_count": 25,
   "id": "63795c55-2fd3-4fbf-b021-8c2e663261c4",
   "metadata": {},
   "outputs": [],
   "source": [
    "data_region_filtered_df = data_with_region__df.filter(f.col('region') != \"WakaWaka\");"
   ]
  },
  {
   "cell_type": "markdown",
   "id": "17f9f038-fa89-4e8b-bb86-00777ef493c3",
   "metadata": {
    "jp-MarkdownHeadingCollapsed": true
   },
   "source": [
    "### Result\n",
    "Let's check what happened."
   ]
  },
  {
   "cell_type": "markdown",
   "id": "fdd9765b-1233-475b-ba8d-c2d1140bbe84",
   "metadata": {},
   "source": [
    "First let's see how many different regions are left in the dataset. We can see we have only one valid region."
   ]
  },
  {
   "cell_type": "code",
   "execution_count": 26,
   "id": "50b1aafc-b180-41c7-b313-2b99bab73a99",
   "metadata": {},
   "outputs": [
    {
     "name": "stderr",
     "output_type": "stream",
     "text": [
      "[Stage 24:============>                                             (2 + 7) / 9]\r"
     ]
    },
    {
     "name": "stdout",
     "output_type": "stream",
     "text": [
      "+-------------+\n",
      "|       region|\n",
      "+-------------+\n",
      "|Europe/Berlin|\n",
      "+-------------+\n",
      "\n"
     ]
    },
    {
     "name": "stderr",
     "output_type": "stream",
     "text": [
      "                                                                                \r"
     ]
    }
   ],
   "source": [
    "data_region_filtered_df.select(\"region\").distinct().show();"
   ]
  },
  {
   "cell_type": "markdown",
   "id": "4d0ab39d-fb30-40da-8391-6a42df357201",
   "metadata": {},
   "source": [
    "Now the entries count was [Link to entries query](#Entries-count) **3549246** \\\n",
    "Now our dataset has: **3444114**"
   ]
  },
  {
   "cell_type": "code",
   "execution_count": 27,
   "id": "e2f85afc-31c2-4757-8b9b-cf4e36b97ca5",
   "metadata": {},
   "outputs": [
    {
     "name": "stderr",
     "output_type": "stream",
     "text": [
      "[Stage 27:======================================>                   (6 + 3) / 9]\r"
     ]
    },
    {
     "name": "stdout",
     "output_type": "stream",
     "text": [
      "3444114\n"
     ]
    },
    {
     "name": "stderr",
     "output_type": "stream",
     "text": [
      "                                                                                \r"
     ]
    }
   ],
   "source": [
    "print(data_region_filtered_df.count());"
   ]
  },
  {
   "cell_type": "markdown",
   "id": "0db43895-56ef-4052-b019-965a4b9b3aff",
   "metadata": {
    "jp-MarkdownHeadingCollapsed": true
   },
   "source": [
    "## **Task 6**\n",
    "Calculate utc date, local timestamp, local date"
   ]
  },
  {
   "cell_type": "markdown",
   "id": "13c7aaa9-403e-4314-bdf2-4e29c27d767a",
   "metadata": {
    "jp-MarkdownHeadingCollapsed": true
   },
   "source": [
    "### **Solution**"
   ]
  },
  {
   "cell_type": "markdown",
   "id": "614a1472-aa40-44a0-a94f-abcf631fa7c1",
   "metadata": {},
   "source": [
    "Create **utc_date** column"
   ]
  },
  {
   "cell_type": "code",
   "execution_count": 169,
   "id": "0e59f75e-8a75-4d4e-9bfa-63b4eafae94a",
   "metadata": {},
   "outputs": [],
   "source": [
    "data_utc_df = data_region_filtered_df.withColumn(\"utc_date\", f.to_date(f.col('timestamp')));\n"
   ]
  },
  {
   "cell_type": "markdown",
   "id": "87fcc09a-cd65-4df5-a6a5-9c4a887b4e6f",
   "metadata": {},
   "source": [
    "Create **local timestamp** column"
   ]
  },
  {
   "cell_type": "code",
   "execution_count": 170,
   "id": "1e9aacdc-093e-4fbb-a218-03a2a02333e4",
   "metadata": {},
   "outputs": [],
   "source": [
    "data_local_timestamp_df = data_utc_df.withColumn(\"local_timestamp\", f.from_utc_timestamp(f.col(\"timestamp\"), \"Europe/Bucharest\"));\n"
   ]
  },
  {
   "cell_type": "markdown",
   "id": "93d799cd-d9a1-47fe-a728-96d2088ce54e",
   "metadata": {},
   "source": [
    "Create **local date** column"
   ]
  },
  {
   "cell_type": "code",
   "execution_count": 171,
   "id": "4d57f11b-f712-41a2-b6eb-b7f92725cf89",
   "metadata": {},
   "outputs": [],
   "source": [
    "data_local_date_df = data_local_timestamp_df.withColumn(\"local_date\", f.to_date(f.col('local_timestamp')));"
   ]
  },
  {
   "cell_type": "markdown",
   "id": "e0584cb1-3335-49af-aaef-16d24e3178b0",
   "metadata": {
    "jp-MarkdownHeadingCollapsed": true
   },
   "source": [
    "## **Task 7**\n",
    "Extract all data from **annotations.event** json \\\n",
    "It containts details about the energy consumption and production"
   ]
  },
  {
   "cell_type": "markdown",
   "id": "108ec5da-62aa-4262-b1bd-404fac37a312",
   "metadata": {
    "jp-MarkdownHeadingCollapsed": true
   },
   "source": [
    "### Analyse data set\n",
    "Let's see how the json is created."
   ]
  },
  {
   "cell_type": "code",
   "execution_count": 182,
   "id": "b6cbf3cf-92c3-4727-b9df-15f550662797",
   "metadata": {},
   "outputs": [
    {
     "name": "stderr",
     "output_type": "stream",
     "text": [
      "[Stage 455:======================================>                  (6 + 3) / 9]\r"
     ]
    },
    {
     "name": "stdout",
     "output_type": "stream",
     "text": [
      "+--------------------------------------------------------------------------------------------------------------+\n",
      "|annotations                                                                                                   |\n",
      "+--------------------------------------------------------------------------------------------------------------+\n",
      "|{\"region\":\"Europe/Berlin\",\"events\":{\"EV\":\"1.150616841147254\",\"BATTERY_IN\":\"1.047355403597352\",\"PV\":\"2.26135\"}}|\n",
      "|{\"region\":\"Europe/Berlin\",\"events\":{\"EV\":\"2.491949999999996\",\"BATTERY_OUT\":\"1.296228453956364\"}}              |\n",
      "|{\"region\":\"Europe/Berlin\",\"events\":{\"EV\":\"1.653001332208902\",\"BATTERY_OUT\":\"1.619142268057457\"}}              |\n",
      "|{\"region\":\"Europe/Berlin\",\"events\":{\"EV\":\"2.292000000000129\",\"BATTERY_OUT\":\"1.259414405510866\"}}              |\n",
      "|{\"region\":\"Europe/Berlin\",\"events\":{\"EV\":\"2.670999999999978\",\"BATTERY_OUT\":\"3.294711253031282\"}}              |\n",
      "|{\"region\":\"Europe/Berlin\",\"events\":{\"EV\":\"1.172000000000001\",\"BATTERY_OUT\":\"1.351665631988632\"}}              |\n",
      "+--------------------------------------------------------------------------------------------------------------+\n",
      "only showing top 6 rows\n",
      "\n"
     ]
    },
    {
     "name": "stderr",
     "output_type": "stream",
     "text": [
      "                                                                                \r"
     ]
    }
   ],
   "source": [
    "data_local_date_df.select(\"annotations\").sort(f.desc(f.length(f.col(\"annotations\")))).show(n = 6,truncate=False)\n"
   ]
  },
  {
   "cell_type": "markdown",
   "id": "f212c7e9-30bb-4583-9eb5-6d6c41d5be4d",
   "metadata": {},
   "source": [
    "As we can see the json has only 2 properties region and events. We care only about the events. So we can define the schema of the \\\n",
    "**annotations** column as such:\n"
   ]
  },
  {
   "cell_type": "code",
   "execution_count": 183,
   "id": "ac0ddaa7-c1dc-43c7-b714-0bc23f96e774",
   "metadata": {},
   "outputs": [],
   "source": [
    "annotations_schema = StructType(\n",
    "    [\n",
    "        StructField('region', StringType(), True),\n",
    "        StructField('events', StringType(), True)\n",
    "    ]\n",
    ")"
   ]
  },
  {
   "cell_type": "code",
   "execution_count": 188,
   "id": "5581f173-0715-45b0-9584-672e43ed0465",
   "metadata": {},
   "outputs": [
    {
     "name": "stdout",
     "output_type": "stream",
     "text": [
      "+--------------------------------------------------+\n",
      "|events                                            |\n",
      "+--------------------------------------------------+\n",
      "|{\"GRID_SELL\":\"1.45940454750907\",\"PV\":\"1.473775\"}  |\n",
      "|{\"PV\":\"1.266225\"}                                 |\n",
      "|{\"BATTERY_IN\":\"1.420021373239755\",\"PV\":\"1.441375\"}|\n",
      "|{\"GRID_SELL\":\"1.273193767759511\",\"PV\":\"1.2912\"}   |\n",
      "|{\"EV\":\"2.75\"}                                     |\n",
      "|{\"EV\":\"2.75\"}                                     |\n",
      "|{\"BATTERY_IN\":\"1.271637606580326\",\"PV\":\"1.308825\"}|\n",
      "|{\"GRID_SELL\":\"1.504529714658364\",\"PV\":\"1.527825\"} |\n",
      "|{\"GRID_SELL\":\"1.48874948053448\",\"PV\":\"1.527825\"}  |\n",
      "|{\"EV\":\"1.035\"}                                    |\n",
      "|{\"GRID_SELL\":\"1.363357640669544\",\"PV\":\"1.39895\"}  |\n",
      "|{\"GRID_SELL\":\"1.061857672908919\",\"PV\":\"1.077475\"} |\n",
      "|{\"EV\":\"1.343129999999995\"}                        |\n",
      "|{\"BATTERY_IN\":\"1.380478844510013\",\"PV\":\"1.4016\"}  |\n",
      "|{\"EV\":\"2.75\",\"BATTERY_OUT\":\"2.778265004340575\"}   |\n",
      "|{\"EV\":\"2.75\"}                                     |\n",
      "|{\"GRID_SELL\":\"1.096753597386642\",\"PV\":\"1.113275\"} |\n",
      "|{\"EV\":\"2.75\"}                                     |\n",
      "|{\"GRID_SELL\":\"1.769994505902447\",\"PV\":\"1.784975\"} |\n",
      "|{\"EV\":\"1.035\",\"PV\":\"1.48755\"}                     |\n",
      "+--------------------------------------------------+\n",
      "only showing top 20 rows\n",
      "\n"
     ]
    }
   ],
   "source": [
    "json_explode = data_local_date_df.withColumn('data', f.from_json(\"annotations\", annotations_schema))\n",
    "json_explode.select(\"data.events\").filter(f.col(\"data.events\").isNotNull()).show(truncate=False)"
   ]
  },
  {
   "cell_type": "markdown",
   "id": "3c841d32-151a-4b92-b336-3534f678e3e6",
   "metadata": {},
   "source": [
    "Inspecting the events column we can see that we have the exact schema from the task: \\\n",
    "*GRID_SELL*, *PV*, *BATTERY_IN*, *EV*, *BATTERY_OUT* \\\n",
    "So we can define a schema for the events."
   ]
  },
  {
   "cell_type": "code",
   "execution_count": 189,
   "id": "11241ec2-ee95-4e16-919e-1ebba7f3be40",
   "metadata": {},
   "outputs": [],
   "source": [
    "events_schema = StructType ([\n",
    "        StructField(\"GRID_SELL\", StringType(), True),\n",
    "        StructField(\"PV\", StringType(), True),\n",
    "        StructField(\"EV\", StringType(), True),\n",
    "        StructField(\"BATTERY_IN\", StringType(), True),\n",
    "        StructField(\"BATTERY_OUT\", StringType(), True),\n",
    "]);"
   ]
  },
  {
   "cell_type": "markdown",
   "id": "aac77088-2d01-4ede-8025-fc278a433080",
   "metadata": {
    "jp-MarkdownHeadingCollapsed": true
   },
   "source": [
    "### Solution\n",
    "Now we just need to create the columns using the schemas we've analysed before."
   ]
  },
  {
   "cell_type": "markdown",
   "id": "bc839fc4-f7b3-46fa-aacd-98ed7b05588c",
   "metadata": {},
   "source": [
    "First we need to create 2 columns. Let's call them data and events \\\n",
    "Data column will contain the annotations column but with the defined schema \\\n",
    "Events column will contain all the events properties we defined in events_schema"
   ]
  },
  {
   "cell_type": "code",
   "execution_count": 194,
   "id": "ef0aa989-d89b-4595-a5a9-de24d6820511",
   "metadata": {},
   "outputs": [],
   "source": [
    "json_explode = (data_local_date.withColumn('data', f.from_json(\"annotations\", schema))\n",
    "    .withColumn(\"events\", f.from_json(\"data.events\", eventsSchema)));"
   ]
  },
  {
   "cell_type": "markdown",
   "id": "b2670dbe-aa4e-41cb-a5cc-3280d83885d9",
   "metadata": {},
   "source": [
    "Now we will just extract each json property to its own column. \\\n",
    "**Note** We will check if the property is null and replace the null value with 0. \\\n",
    "After we create the new columns we will drop the data and events column."
   ]
  },
  {
   "cell_type": "code",
   "execution_count": 195,
   "id": "103357dd-b2b1-4ab7-96f4-1749e7c392c6",
   "metadata": {},
   "outputs": [],
   "source": [
    "consumers_data_df = (\n",
    "    json_explode.withColumn(\"sent_to_ev\", f.when(f.col(\"events.EV\").isNull(), 0).otherwise(f.col(\"events.EV\")))\n",
    "    .withColumn(\"sent_to_battery\", f.when(f.col(\"events.BATTERY_IN\").isNull(), 0).otherwise(f.col(\"events.BATTERY_IN\")))\n",
    "    .withColumn(\"received_from_pv\", f.when(f.col(\"events.PV\").isNull(), 0).otherwise(f.col(\"events.PV\")))\n",
    "    .withColumn(\"sent_to_grid\", f.when(f.col(\"events.GRID_SELL\").isNull(), 0).otherwise(f.col(\"events.GRID_SELL\")))\n",
    "    .withColumn(\"received_from_battery\", f.when(f.col(\"events.BATTERY_OUT\").isNull(), 0).otherwise(f.col(\"events.BATTERY_OUT\")))\n",
    "    .drop(\"data\", \"events\")\n",
    ")"
   ]
  },
  {
   "cell_type": "markdown",
   "id": "4ee994a4-0d55-4e85-8c7c-6b5acabb4cdc",
   "metadata": {
    "jp-MarkdownHeadingCollapsed": true
   },
   "source": [
    "### Result\n",
    "If we select the new columns we will have them populated."
   ]
  },
  {
   "cell_type": "code",
   "execution_count": 196,
   "id": "5fe89b74-47db-40b4-9442-0196e44b64aa",
   "metadata": {},
   "outputs": [
    {
     "name": "stdout",
     "output_type": "stream",
     "text": [
      "+---------------+----------+---------------+----------------+----------------+---------------------+\n",
      "|    contract_id|sent_to_ev|sent_to_battery|received_from_pv|    sent_to_grid|received_from_battery|\n",
      "+---------------+----------+---------------+----------------+----------------+---------------------+\n",
      "|04_02_111_CHR12|         0|              0|               0|               0|                    0|\n",
      "|04_02_111_CHR12|         0|              0|               0|               0|                    0|\n",
      "|04_02_111_CHR12|         0|              0|               0|               0|                    0|\n",
      "|04_02_111_CHR12|         0|              0|               0|               0|                    0|\n",
      "|04_02_111_CHR12|         0|              0|        1.473775|1.45940454750907|                    0|\n",
      "|04_02_111_CHR12|         0|              0|        1.266225|               0|                    0|\n",
      "|04_02_111_CHR12|         0|              0|               0|               0|                    0|\n",
      "|04_02_111_CHR12|         0|              0|               0|               0|                    0|\n",
      "|04_02_111_CHR12|         0|              0|               0|               0|                    0|\n",
      "|04_02_111_CHR12|         0|              0|               0|               0|                    0|\n",
      "|04_02_111_CHR12|         0|              0|               0|               0|                    0|\n",
      "|04_02_111_CHR12|         0|              0|               0|               0|                    0|\n",
      "|04_02_111_CHR12|         0|              0|               0|               0|                    0|\n",
      "|04_02_111_CHR12|         0|              0|               0|               0|                    0|\n",
      "|04_02_111_CHR12|         0|              0|               0|               0|                    0|\n",
      "|04_02_111_CHR12|         0|              0|               0|               0|                    0|\n",
      "|04_02_111_CHR12|         0|              0|               0|               0|                    0|\n",
      "|04_02_111_CHR12|         0|              0|               0|               0|                    0|\n",
      "|04_02_111_CHR12|         0|              0|               0|               0|                    0|\n",
      "|04_02_111_CHR12|         0|              0|               0|               0|                    0|\n",
      "+---------------+----------+---------------+----------------+----------------+---------------------+\n",
      "only showing top 20 rows\n",
      "\n"
     ]
    }
   ],
   "source": [
    "consumers_data_df.select(\"contract_id\", \"sent_to_ev\", \"sent_to_battery\", \n",
    "                         \"received_from_pv\", \"sent_to_grid\", \"received_from_battery\").show()"
   ]
  },
  {
   "cell_type": "markdown",
   "id": "14673c71-a193-4b51-81f7-48e625c391ec",
   "metadata": {
    "jp-MarkdownHeadingCollapsed": true
   },
   "source": [
    "## ***Task 8***\n",
    "Validate **value** column and set \"plausability_check_failed\" in the column **value_source** if the column is in a bad state."
   ]
  },
  {
   "cell_type": "markdown",
   "id": "cc35a9bb-2e51-4524-ad29-fb3eecd57361",
   "metadata": {
    "jp-MarkdownHeadingCollapsed": true
   },
   "source": [
    "### Analyse data set\n",
    "First we need to make some assumptions to validate the value column"
   ]
  },
  {
   "cell_type": "markdown",
   "id": "842fe6c6-518e-47d4-b181-732a24867bc2",
   "metadata": {},
   "source": [
    "After some aggregations we have these results \\\n",
    "The mean of column **value** is: 0.490498692649539 \\\n",
    "Entries which have the **value** greater than 1: 568729 \\\n",
    "Entries which have the **value** less than 1: 2778745 \\\n",
    "Entries which have the **value** greater than 5: 12944 \\\n",
    "Max value of **sent_to_ev**: 2.75 \\\n",
    "Max value of **sent_to_battery**: 2.238648024029528 \\\n",
    "Max value of **received_from_pv**: 2.262325 \\\n",
    "Max value of **sent_to_grid**: 2.259371834882435 \\\n",
    "Max value of **received_from_battery**: 3.570313934135474 \\"
   ]
  },
  {
   "cell_type": "markdown",
   "id": "b232775e-a29e-474c-bc88-0f82f939ddd3",
   "metadata": {},
   "source": [
    "The value column is the aggregation of all of these fields. \\\n",
    "That being said if we received 2.26 from pv and charge ev for 2.75 the value should be around 2.75 \n",
    "\n",
    ":et's say we have maximum consumation: ev + battery + grid = 2.75 + 2.23 + 2.25 ~= 7\n",
    "In no case i should have more than 7"
   ]
  },
  {
   "cell_type": "code",
   "execution_count": 207,
   "id": "58db61de-fff4-4712-9bd2-71e80f93b18e",
   "metadata": {},
   "outputs": [
    {
     "name": "stderr",
     "output_type": "stream",
     "text": [
      "[Stage 472:>                                                        (0 + 8) / 9]\r"
     ]
    },
    {
     "name": "stdout",
     "output_type": "stream",
     "text": [
      "10917\n"
     ]
    },
    {
     "name": "stderr",
     "output_type": "stream",
     "text": [
      "                                                                                \r"
     ]
    }
   ],
   "source": [
    "print(consumers_data_df.filter(f.col(\"value\") > 7).count())"
   ]
  },
  {
   "cell_type": "markdown",
   "id": "96e83232-92c2-4499-9411-6186a45ddfea",
   "metadata": {},
   "source": [
    "We have 10917 entries with value > 7 so they should be removed. \\\n",
    "Now we can search the fact that we have no user between 5 and 15 consumption value > 5 : 12944 entries (just 2000 from 3444114) \\\n",
    "Even more running this script will show that all users have 0 data about pv, ev and others. Such consumation with data is ridiculous."
   ]
  },
  {
   "cell_type": "code",
   "execution_count": 208,
   "id": "3b5da2e6-4f1d-465c-ad9d-451e9c7f0515",
   "metadata": {},
   "outputs": [
    {
     "name": "stderr",
     "output_type": "stream",
     "text": [
      "[Stage 475:============>                                            (2 + 7) / 9]\r"
     ]
    },
    {
     "name": "stdout",
     "output_type": "stream",
     "text": [
      "+---------------+----------+-----------------+---------------+------------+----------------+---------------------+\n",
      "|    contract_id|sent_to_ev|            value|sent_to_battery|sent_to_grid|received_from_pv|received_from_battery|\n",
      "+---------------+----------+-----------------+---------------+------------+----------------+---------------------+\n",
      "|04_02_111_CHR05|         0|           5.0012|              0|           0|               0|                    0|\n",
      "|04_02_111_CHR48|         0|5.002406459379735|              0|           0|               0|                    0|\n",
      "|04_02_111_CHR34|         0|           5.0028|              0|           0|               0|                    0|\n",
      "|04_02_111_CHR40|         0|          5.00445|              0|           0|               0|                    0|\n",
      "|04_02_111_CHR56|         0|5.005943964659869|              0|           0|               0|                    0|\n",
      "|04_02_111_CHR04|         0|5.006135105072085|              0|           0|               0|                    0|\n",
      "|10_01_147_CHR10|         0|5.006875884575965|              0|           0|               0|                    0|\n",
      "|10_01_147_CHR44|         0|     5.0083434375|              0|           0|               0|                    0|\n",
      "|04_02_111_CHR15|         0|5.008636322847483|              0|           0|               0|                    0|\n",
      "|04_02_111_CHR24|         0|5.009024999999999|              0|           0|               0|                    0|\n",
      "+---------------+----------+-----------------+---------------+------------+----------------+---------------------+\n",
      "only showing top 10 rows\n",
      "\n"
     ]
    },
    {
     "name": "stderr",
     "output_type": "stream",
     "text": [
      "                                                                                \r"
     ]
    }
   ],
   "source": [
    "consumers_data_df.select('contract_id', \"sent_to_ev\", \"value\", \"sent_to_battery\", \"sent_to_grid\", \"received_from_pv\",\"received_from_battery\").filter((f.col(\"value\") > 5)).sort(f.col(\"value\")).show(n=1000)"
   ]
  },
  {
   "cell_type": "markdown",
   "id": "91bce635-0247-4eaf-833f-e86415f0e387",
   "metadata": {},
   "source": [
    "With all this in mind we can safely consider value > 5 as a \"plausability_check_failed\". \n",
    "\n",
    "Looking to interval value = 3-4 we find multiple caseses where no ev and other utilities can be found. Still there is a posibility these data are corect.\n",
    "For interval value < 3 if there is at least on consumer the data might be right.\n",
    "So we filter out all data with value > 5."
   ]
  },
  {
   "cell_type": "markdown",
   "id": "84fa68a0-3ce6-47e0-b43d-25225e0339ba",
   "metadata": {
    "jp-MarkdownHeadingCollapsed": true
   },
   "source": [
    "### Solution\n",
    "Based on the analysis above we wil just filter the data which has *value* more than 5."
   ]
  },
  {
   "cell_type": "code",
   "execution_count": 214,
   "id": "224d982a-58db-4ac4-b203-7618b6db69da",
   "metadata": {},
   "outputs": [],
   "source": [
    "consumption_data = json_explode.withColumn(\"value_source\", \n",
    "        f.when(f.col(\"value\") > 5, f.lit(\"plausability_check_failed\"))\n",
    "        .otherwise(f.col(\"value_source\")));"
   ]
  },
  {
   "cell_type": "markdown",
   "id": "d88c867e-22c8-4345-bd5d-f933c59e4f38",
   "metadata": {},
   "source": [
    "Now we need to write all of them in a file on disk."
   ]
  },
  {
   "cell_type": "code",
   "execution_count": null,
   "id": "5ec6ae60-7490-4c06-9517-d1b8c5c42a2c",
   "metadata": {},
   "outputs": [],
   "source": [
    "consumption_data.filter(f.col(\"value_source\") == \"plausability_check_failed\").write.format('csv').option('header', 'true').save('./data/InvalidMeasurments');"
   ]
  },
  {
   "cell_type": "markdown",
   "id": "ed803819-8836-4677-b21a-b1d6f9803d44",
   "metadata": {},
   "source": [
    "Next we will set all the columns **value** into null if the value_source is *plausability_check_failed*"
   ]
  },
  {
   "cell_type": "code",
   "execution_count": 216,
   "id": "67f6152c-f7e8-4265-bd21-0fdb170c9925",
   "metadata": {},
   "outputs": [],
   "source": [
    "consumption_data = consumption_data.withColumn(\"value\", \n",
    "                f.when(f.col(\"value_source\") == \"plausability_check_failed\", f.lit(None))\n",
    "                .otherwise(f.col(\"value\"))).cache();"
   ]
  },
  {
   "cell_type": "markdown",
   "id": "dc1f5207-fd83-4dca-8a33-d134d115b574",
   "metadata": {
    "jp-MarkdownHeadingCollapsed": true
   },
   "source": [
    "### Result\n",
    "\n",
    "We can see that we've found many entries which are wrong."
   ]
  },
  {
   "cell_type": "code",
   "execution_count": 217,
   "id": "00be602f-4185-4ed6-b4ea-6dfe4989cf9c",
   "metadata": {},
   "outputs": [
    {
     "name": "stderr",
     "output_type": "stream",
     "text": [
      "[Stage 489:>                                                        (0 + 8) / 9]\r"
     ]
    },
    {
     "name": "stdout",
     "output_type": "stream",
     "text": [
      "12944\n"
     ]
    },
    {
     "name": "stderr",
     "output_type": "stream",
     "text": [
      "                                                                                \r"
     ]
    }
   ],
   "source": [
    "print(consumption_data.filter(f.col(\"value_source\") == \"plausability_check_failed\").count());"
   ]
  },
  {
   "cell_type": "markdown",
   "id": "ac437e72-0323-4dd8-a23b-13a37174b2c7",
   "metadata": {
    "jp-MarkdownHeadingCollapsed": true
   },
   "source": [
    "## ***Task 9***\n",
    "If the **value** is **NULL** we should try to predict what value it should be."
   ]
  },
  {
   "cell_type": "markdown",
   "id": "6353bf5d-76df-4604-973c-cdbeb915f3b4",
   "metadata": {
    "jp-MarkdownHeadingCollapsed": true
   },
   "source": [
    "### Solution\n",
    "First we will try to get the mean from the last 8 weeks.\n",
    "\n",
    "For this the first step is to remove the entries with **value_source** in status \"plausability_check_failed\"\\\n",
    "We will partition the data by 8 weeks. To do that we will just convert the timestamp to long\\\n",
    "and just removing the number of seconds of a day 86400 multiplied by the number of days in a week 7.\\\n",
    "We don't have problem with **null** values because the *mean* function handles them by default."
   ]
  },
  {
   "cell_type": "code",
   "execution_count": 220,
   "id": "524e8a51-a74a-4c5e-899c-f2d29dc6753c",
   "metadata": {},
   "outputs": [],
   "source": [
    "days = lambda i: i * 86400;\n",
    "\n",
    "window_spec = Window.partitionBy(\n",
    "    \"contract_id\", f.dayofweek(\"timestamp\"), f.hour(\"timestamp\"), f.minute(\"timestamp\")\n",
    ").orderBy(f.col(\"timestamp\").cast(\"long\")).rangeBetween(-days(8 * 7), 0);\n",
    "\n",
    "\n",
    "df_avg = consumption_data.filter(f.col(\"value_source\") != \"plausability_check_failed\").withColumn(\n",
    "    \"avg_value_last_8_weeks\",\n",
    "    f.mean(f.col(\"value\")).over(window_spec)\n",
    ")"
   ]
  },
  {
   "cell_type": "markdown",
   "id": "e0d5b608-567f-43de-af6f-3838f2849c89",
   "metadata": {},
   "source": [
    "Next we need to calculate the sum of the consumers: *sent_total* *sent_to_ev* and *sent_to_battery* \\\n",
    "And the sum of the producers: *received_from_battery* and *received_from_pv*"
   ]
  },
  {
   "cell_type": "code",
   "execution_count": 38,
   "id": "f3302acd-7a09-44eb-9eec-c951e26ff885",
   "metadata": {},
   "outputs": [],
   "source": [
    "df_avg = (df_avg\n",
    "          .withColumn(\"received_total\", f.col(\"received_from_pv\") + f.col(\"received_from_battery\"))\n",
    "          .withColumn(\"sent_total\", f.col(\"sent_to_ev\") + f.col(\"sent_to_battery\") + f.col(\"sent_to_grid\")));"
   ]
  },
  {
   "cell_type": "markdown",
   "id": "6b379dc2-5910-4d4f-8bfa-5c85c6569bee",
   "metadata": {},
   "source": [
    "Now the we will just give the column *value* the max of all of these 3 values. And we can drop all this values."
   ]
  },
  {
   "cell_type": "code",
   "execution_count": null,
   "id": "e9f9c42d-0f3d-41d7-8fb3-ce0577900db1",
   "metadata": {},
   "outputs": [],
   "source": [
    "value_correct = df_avg.withColumn(\"value\", f.when(f.col(\"value\").isNull(), \n",
    "                f.greatest(\"received_total\", \"sent_total\", \"avg_value_last_8_weeks\")).otherwise(f.col(\"value\")));\n",
    "value_correct = value_correct.drop(\"avg_value_last_8_weeks\", \"received_total\", \"sent_total\");"
   ]
  },
  {
   "cell_type": "markdown",
   "id": "a34db3d4-1a82-4994-8357-c789e3d5fa49",
   "metadata": {
    "jp-MarkdownHeadingCollapsed": true
   },
   "source": [
    "### Result\n",
    "We have no entris with **value** null"
   ]
  },
  {
   "cell_type": "code",
   "execution_count": 221,
   "id": "168e82d0-ffcb-4897-8269-b918e8c6bd62",
   "metadata": {},
   "outputs": [
    {
     "name": "stderr",
     "output_type": "stream",
     "text": [
      "[Stage 494:==========================================>          (162 + 8) / 200]\r"
     ]
    },
    {
     "name": "stdout",
     "output_type": "stream",
     "text": [
      "0\n"
     ]
    },
    {
     "name": "stderr",
     "output_type": "stream",
     "text": [
      "                                                                                \r"
     ]
    }
   ],
   "source": [
    "print(value_correct.filter(f.col(\"value\").isNull()).count());"
   ]
  },
  {
   "cell_type": "markdown",
   "id": "d556b653-1508-4f33-aad3-bf31c013109e",
   "metadata": {
    "jp-MarkdownHeadingCollapsed": true
   },
   "source": [
    "## ***Task 10***\n",
    "Calculate *received_from_grid value*"
   ]
  },
  {
   "cell_type": "markdown",
   "id": "5a65237b-d9e5-452a-8d78-5e0914f2d8af",
   "metadata": {},
   "source": [
    "### Solution\n",
    "We just calculate the column via the formula. \\\n",
    "We will remove some unnecessary column from our dataset."
   ]
  },
  {
   "cell_type": "code",
   "execution_count": 224,
   "id": "9d2ebf04-c3c9-4526-932d-a95af98fd552",
   "metadata": {},
   "outputs": [],
   "source": [
    "received_from_grid_df = value_correct.withColumn(\"received_from_grid\", \n",
    "                f.col(\"sent_to_ev\") + f.col(\"sent_to_battery\") + f.col(\"sent_to_grid\") \n",
    "                - f.col(\"received_from_pv\") - f.col(\"received_from_battery\"))\n",
    "received_from_grid_df = received_from_grid_df.drop('annotations', 'timestamp', 'utc_date', 'region');"
   ]
  },
  {
   "cell_type": "markdown",
   "id": "0646c0bf-1f39-4d0e-be40-545d547f93d9",
   "metadata": {},
   "source": [
    "## ***Task 11***\n",
    "Add tariff prices to the dataset."
   ]
  },
  {
   "cell_type": "markdown",
   "id": "37b54765-8305-421e-843e-b8b5d02d9360",
   "metadata": {
    "jp-MarkdownHeadingCollapsed": true
   },
   "source": [
    "### Solution\n",
    "We will join the 2 tables by contract id and another condition that the local_timestamp is between the contract interval timestamps."
   ]
  },
  {
   "cell_type": "code",
   "execution_count": 249,
   "id": "f8cddcf7-9cd1-482b-800c-0dc2546ca104",
   "metadata": {},
   "outputs": [
    {
     "name": "stderr",
     "output_type": "stream",
     "text": [
      "24/04/09 00:17:40 WARN CacheManager: Asked to cache already cached data.\n"
     ]
    }
   ],
   "source": [
    "tariff_df = spark.read.format('json').load('./data/customer_tariff/json/');\n",
    "cond = [(tariff_df.contract_id == value.contract_id) &  \n",
    "        (tariff_df.target_local_start_timestamp.cast(\"timestamp\") <= value.local_timestamp) & \n",
    "        (value.local_timestamp <= tariff_df.target_local_end_timestamp.cast(\"timestamp\"))]\n",
    "\n",
    "value_tarrif = value.join(tariff_df, cond).select(value[\"*\"], \n",
    "        tariff_df[\"charge_type\"],tariff_df[\"price\"], tariff_df[\"target_local_end_timestamp\"], \n",
    "        tariff_df[\"target_local_start_timestamp\"], tariff_df[\"tariff_name\"]).cache();"
   ]
  },
  {
   "cell_type": "markdown",
   "id": "5882d075-276d-432a-a7e3-458c869267f2",
   "metadata": {},
   "source": [
    "## ***Task 12***\n",
    "Calculate bill details"
   ]
  },
  {
   "cell_type": "markdown",
   "id": "64c8d49b-f289-4801-8028-9a6a0894a200",
   "metadata": {},
   "source": [
    "### Analyse"
   ]
  },
  {
   "cell_type": "markdown",
   "id": "01b2f540-931c-48b8-a4d7-f778488fcc24",
   "metadata": {},
   "source": [
    "We want this function to be flexible and reliable. So we will make it easy to use by abstracting it in a function.\\\n",
    "The only thing we need to calculate in this function is the cost which for now it's not calulated in any priort steps.\n",
    "\n",
    "To do so we need to match the **charge_type = buy** with the **received_from_grid** and\\\n",
    "to match the **charge_type = sell** with the **sent_from_grid**"
   ]
  },
  {
   "cell_type": "markdown",
   "id": "d127eba2-b3da-4082-a807-3215f606435a",
   "metadata": {},
   "source": [
    "### Solution"
   ]
  },
  {
   "cell_type": "markdown",
   "id": "3faa5e43-c17a-4f05-bc12-00d1d282c5d1",
   "metadata": {},
   "source": [
    "Let's create the function to calculate the price."
   ]
  },
  {
   "cell_type": "code",
   "execution_count": 229,
   "id": "00c19399-ada0-4e6d-9876-e6561dcdf770",
   "metadata": {},
   "outputs": [],
   "source": [
    "calculate_bought_price = f.when(f.col(\"charge_type\") == \"buy\", f.col(\"price\") * f.col(\"received_from_grid\")).otherwise(0);\n",
    "calculate_earn_price = f.when(f.col(\"charge_type\") == \"sell\", f.col(\"price\") * f.col(\"sent_to_grid\")).otherwise(0);"
   ]
  },
  {
   "cell_type": "markdown",
   "id": "90990d9b-4c46-4c07-a7b1-ca90be595ad0",
   "metadata": {},
   "source": [
    "Next we will create an enum for the type of the interval our caller can use."
   ]
  },
  {
   "cell_type": "code",
   "execution_count": 231,
   "id": "30a4b051-4807-4360-b1c2-a6c99fc04508",
   "metadata": {},
   "outputs": [],
   "source": [
    "from enum import Enum\n",
    "\n",
    "class TimePeriod(Enum):\n",
    "    Day = 1\n",
    "    Week = 2\n",
    "    Month = 3\n",
    "    Year = 4"
   ]
  },
  {
   "cell_type": "markdown",
   "id": "b79f981c-1751-49db-b1b4-05489fb2995b",
   "metadata": {},
   "source": [
    "Lastly we will have our function which will do all the aggregation.\\\n",
    "First it will filter only the data we need from the data set so it will make the aggregation as fast as possible. \\\n",
    "Then it will aggregate all the date by summing them. \\\n",
    "The last step is to show the highest 10 bills from the aggregation."
   ]
  },
  {
   "cell_type": "code",
   "execution_count": 256,
   "id": "63a08b64-790e-4e32-9fee-142e226a9b1f",
   "metadata": {},
   "outputs": [],
   "source": [
    "from pyspark.sql import DataFrame\n",
    "\n",
    "\n",
    "def process_time_period(period, date) -> DataFrame:\n",
    "    if period == TimePeriod.Day: \n",
    "        final_bill = value_tarrif.filter((f.dayofyear(f.lit(date)) == f.dayofyear(f.col(\"local_date\"))) & (f.year(f.lit(date)) == f.year(f.col(\"local_date\"))));\n",
    "    if period == TimePeriod.Week:\n",
    "        final_bill = value_tarrif.filter((f.weekofyear(f.lit(date)) == f.weekofyear(f.col(\"local_date\"))) & (f.year(f.lit(date)) == f.year(f.col(\"local_date\"))));\n",
    "    if period == TimePeriod.Month:\n",
    "        final_bill = value_tarrif.filter((f.month(f.lit(date)) == f.month(f.col(\"local_date\"))) & (f.year(f.lit(date)) == f.year(f.col(\"local_date\"))));\n",
    "    if period == TimePeriod.Year:\n",
    "        final_bill = value_tarrif.filter(f.year(f.lit(date)) == f.year(f.col(\"local_date\")));\n",
    "        \n",
    "    final_bill = final_bill.groupBy(\"contract_id\").agg(\n",
    "    f.sum(f.col(\"value\")).alias(\"kWh_total\"),\n",
    "    f.sum(f.col(\"received_from_pv\")).alias(\"kWh_from_PV\"),\n",
    "    f.sum(f.col(\"received_from_battery\")).alias(\"kWh_from_battery\"),\n",
    "    f.sum(f.col(\"sent_to_ev\")).alias(\"kWh_for_EV\"),\n",
    "    f.sum(f.col(\"received_from_grid\")).alias(\"kWh_from_grid\"),\n",
    "    f.sum(calculate_bought_price).alias(\"price_billed\"),\n",
    "    f.sum(f.col(\"sent_to_grid\")).alias(\"kWh_to_grid\"),\n",
    "    f.sum(calculate_earn_price).alias(\"price_cashback\"),\n",
    "    );\n",
    "    final_bill = final_bill.withColumn(\"price_final\", f.col(\"price_billed\") - f.col(\"price_cashback\")).sort(f.desc(\"price_final\"));\n",
    "    return final_bill;"
   ]
  },
  {
   "cell_type": "markdown",
   "id": "f21c9fbd-565b-4d49-9ccd-8fc96a839a5e",
   "metadata": {
    "jp-MarkdownHeadingCollapsed": true
   },
   "source": [
    "### Result"
   ]
  },
  {
   "cell_type": "markdown",
   "id": "c9004723-cf9e-4457-9ed5-2a1ca41fd74e",
   "metadata": {},
   "source": [
    "Let's take an arbitrary date such as: 2023-04-10 and run all the functions.\n",
    "We will use a utilitary function to trim the number of decimals for readability."
   ]
  },
  {
   "cell_type": "code",
   "execution_count": 258,
   "id": "95d63438-918e-4ff9-8c44-3b6df471375b",
   "metadata": {},
   "outputs": [],
   "source": [
    "import pyspark.sql.functions as F\n",
    "from pyspark.sql import DataFrame\n",
    "\n",
    "def dataframe_format_float(df: DataFrame, num_decimals=4) -> DataFrame:\n",
    "    r = []\n",
    "    for c in df.dtypes:\n",
    "        name, dtype = c[0], c[1]\n",
    "        if dtype in ['float', 'double']:\n",
    "            r.append(F.round(name, num_decimals).alias(name))\n",
    "        else:\n",
    "            r.append(name)\n",
    "    df = df.select(r)\n",
    "    return df"
   ]
  },
  {
   "cell_type": "code",
   "execution_count": 259,
   "id": "63ca40c7-bb4c-44ea-a6bf-d8d02474cab1",
   "metadata": {},
   "outputs": [
    {
     "name": "stderr",
     "output_type": "stream",
     "text": [
      "[Stage 574:==================================================>  (192 + 8) / 200]\r"
     ]
    },
    {
     "name": "stdout",
     "output_type": "stream",
     "text": [
      "+---------------+---------+-----------+----------------+----------+-------------+------------+-----------+--------------+-----------+\n",
      "|    contract_id|kWh_total|kWh_from_PV|kWh_from_battery|kWh_for_EV|kWh_from_grid|price_billed|kWh_to_grid|price_cashback|price_final|\n",
      "+---------------+---------+-----------+----------------+----------+-------------+------------+-----------+--------------+-----------+\n",
      "|10_01_147_CHR10| 154.5566|    82.1257|          2.9628|  105.4512|      20.3627|       3.987|        0.0|           0.0|      3.987|\n",
      "|10_01_147_CHR04| 143.1789|    82.1257|          5.5243|   104.163|       16.513|      3.1342|        0.0|           0.0|     3.1342|\n",
      "|10_01_147_CHR59| 154.8676|    82.1257|          2.6304|   100.103|       15.347|      3.1239|        0.0|           0.0|     3.1239|\n",
      "|10_01_147_CHR61| 138.7411|    82.1257|          5.4699|   99.9229|      12.3273|      2.3607|        0.0|           0.0|     2.3607|\n",
      "|10_01_147_CHR20|  147.416|    82.1257|          3.2481|   99.9006|      14.5269|      2.0999|        0.0|           0.0|     2.0999|\n",
      "| 10_01_147_CHR4| 144.9274|    82.1257|          7.6871|  110.2665|      20.4537|      2.0945|        0.0|           0.0|     2.0945|\n",
      "|10_01_147_CHR30| 136.6017|    82.1257|         10.1725|  104.3719|      12.0738|      1.8563|        0.0|           0.0|     1.8563|\n",
      "|10_01_147_CHR39| 139.9091|    82.1257|          5.4838|  100.2319|      12.6225|      1.7369|        0.0|           0.0|     1.7369|\n",
      "|10_01_147_CHR01| 144.5472|    82.1257|          3.2308|  102.3019|      16.9455|      1.7064|        0.0|           0.0|     1.7064|\n",
      "|10_01_147_CHR29| 140.7794|    82.1257|          8.6073|  104.3719|      13.6389|      1.5528|        0.0|           0.0|     1.5528|\n",
      "+---------------+---------+-----------+----------------+----------+-------------+------------+-----------+--------------+-----------+\n",
      "only showing top 10 rows\n",
      "\n"
     ]
    },
    {
     "name": "stderr",
     "output_type": "stream",
     "text": [
      "                                                                                \r"
     ]
    }
   ],
   "source": [
    "dataframe_format_float(process_time_period(TimePeriod.Day, \"2023-04-10\")).show(n=10);"
   ]
  },
  {
   "cell_type": "code",
   "execution_count": 260,
   "id": "17c00f8f-0f2c-477f-b03d-3c4b20836671",
   "metadata": {},
   "outputs": [
    {
     "name": "stderr",
     "output_type": "stream",
     "text": [
      "[Stage 579:================================================>    (182 + 8) / 200]\r"
     ]
    },
    {
     "name": "stdout",
     "output_type": "stream",
     "text": [
      "+---------------+---------+-----------+----------------+----------+-------------+------------+-----------+--------------+-----------+\n",
      "|    contract_id|kWh_total|kWh_from_PV|kWh_from_battery|kWh_for_EV|kWh_from_grid|price_billed|kWh_to_grid|price_cashback|price_final|\n",
      "+---------------+---------+-----------+----------------+----------+-------------+------------+-----------+--------------+-----------+\n",
      "| 10_01_147_CHS1| 755.6515|   499.6478|         19.0332|   151.774|       -0.291|      -0.027|   359.0808|        7.0918|    -7.1188|\n",
      "|10_01_147_CHR24| 730.7023|   499.6478|         21.1976|  148.6176|     -14.2685|     -1.5374|   352.8723|        5.8753|    -7.4128|\n",
      "|10_01_147_CHR01| 773.2668|   499.6478|          8.6929|  148.4919|     -16.5812|     -1.6697|   333.4734|        6.9863|     -8.656|\n",
      "|10_01_147_CHR11| 733.8127|   499.6478|         20.0897|  148.4919|      17.6149|      2.0275|   381.9489|       11.9932|    -9.9657|\n",
      "|10_01_147_CHR39| 775.6658|   499.6478|         26.6244|  148.4919|      -0.4492|     -0.0618|   363.5267|       10.0697|   -10.1315|\n",
      "| 10_01_147_CHR1| 734.1559|   499.6478|         18.7375|  148.3694|       9.7723|      0.8082|   374.6889|       11.3905|   -10.5824|\n",
      "|10_01_147_CHR09| 748.9728|   499.6478|         16.9506|  148.4919|      16.6931|       1.035|   379.7081|       11.7899|    -10.755|\n",
      "|10_01_147_CHR44| 761.6189|   499.6478|         15.6814|  148.4898|     -59.8551|     -5.9496|   300.5496|        5.7255|   -11.6751|\n",
      "|10_01_147_CHR10| 776.0037|   499.6478|         16.1337|  151.6412|       8.6139|      1.6866|   358.3815|       13.4751|   -11.7885|\n",
      "|10_01_147_CHR51| 755.0401|   499.6478|         19.0144|  148.4896|     -39.5743|     -3.2431|   328.1787|       11.1417|   -14.3848|\n",
      "+---------------+---------+-----------+----------------+----------+-------------+------------+-----------+--------------+-----------+\n",
      "only showing top 10 rows\n",
      "\n"
     ]
    },
    {
     "name": "stderr",
     "output_type": "stream",
     "text": [
      "                                                                                \r"
     ]
    }
   ],
   "source": [
    "dataframe_format_float(process_time_period(TimePeriod.Week, \"2023-04-10\")).show(n=10);"
   ]
  },
  {
   "cell_type": "code",
   "execution_count": 261,
   "id": "fd5f9f65-ef49-4e04-aacf-f5818d6a67f9",
   "metadata": {},
   "outputs": [
    {
     "name": "stderr",
     "output_type": "stream",
     "text": [
      "[Stage 584:===============================================>     (179 + 8) / 200]\r"
     ]
    },
    {
     "name": "stdout",
     "output_type": "stream",
     "text": [
      "+---------------+---------+-----------+----------------+----------+-------------+------------+-----------+--------------+-----------+\n",
      "|    contract_id|kWh_total|kWh_from_PV|kWh_from_battery|kWh_for_EV|kWh_from_grid|price_billed|kWh_to_grid|price_cashback|price_final|\n",
      "+---------------+---------+-----------+----------------+----------+-------------+------------+-----------+--------------+-----------+\n",
      "|10_01_147_CHR24| 3089.224|  2028.4156|         88.2519|  626.6839|       7.4029|      0.7977|  1476.8399|       24.5894|   -23.7917|\n",
      "| 10_01_147_CHS1|3171.2793|  2028.4156|         75.0159|  627.1015|      61.5948|      5.7068|  1514.6631|       29.9146|   -24.2078|\n",
      "|10_01_147_CHR01|3274.8048|  2028.4156|         33.7886|  626.6959|      21.3263|      2.1476|  1409.6188|       29.5315|    -27.384|\n",
      "|10_01_147_CHR39|3179.0552|  2028.4156|          72.675|  628.0802|      88.1943|     12.1355|  1517.3645|        42.031|   -29.8955|\n",
      "|10_01_147_CHR11|3064.0449|  2028.4156|         77.6795|  626.6983|     142.5314|     16.4054|  1607.7245|       50.4825|   -34.0772|\n",
      "| 10_01_147_CHR1| 3076.438|  2028.4156|         78.8337|  626.7136|     125.6859|     10.3942|  1591.7421|        48.389|   -37.9947|\n",
      "|10_01_147_CHR44| 3230.819|  2028.4156|         69.4159|  626.6957|    -146.8439|    -14.5963|  1288.5783|       24.5474|   -39.1437|\n",
      "|10_01_147_CHR09|3111.8061|  2028.4156|         69.5551|  626.6978|     132.0013|      8.1841|  1585.7555|       49.2377|   -41.0536|\n",
      "|10_01_147_CHR10|3246.0079|  2028.4156|         85.4604|  627.0184|      54.0415|     10.5813|  1502.8115|       56.5057|   -45.9244|\n",
      "|10_01_147_CHR51|3091.1698|  2028.4156|         75.6328|  626.6258|       4.4811|      0.3672|  1469.8687|        49.902|   -49.5348|\n",
      "+---------------+---------+-----------+----------------+----------+-------------+------------+-----------+--------------+-----------+\n",
      "only showing top 10 rows\n",
      "\n"
     ]
    },
    {
     "name": "stderr",
     "output_type": "stream",
     "text": [
      "                                                                                \r"
     ]
    }
   ],
   "source": [
    "dataframe_format_float(process_time_period(TimePeriod.Month, \"2023-04-10\")).show(n=10);"
   ]
  },
  {
   "cell_type": "code",
   "execution_count": 262,
   "id": "4c650c97-9962-496b-b2ac-6ebd0cce9f5f",
   "metadata": {},
   "outputs": [
    {
     "name": "stderr",
     "output_type": "stream",
     "text": [
      "[Stage 589:==================================================>  (191 + 8) / 200]\r"
     ]
    },
    {
     "name": "stdout",
     "output_type": "stream",
     "text": [
      "+---------------+----------+-----------+----------------+----------+-------------+------------+-----------+--------------+-----------+\n",
      "|    contract_id| kWh_total|kWh_from_PV|kWh_from_battery|kWh_for_EV|kWh_from_grid|price_billed|kWh_to_grid|price_cashback|price_final|\n",
      "+---------------+----------+-----------+----------------+----------+-------------+------------+-----------+--------------+-----------+\n",
      "|10_01_147_CHR61|29272.4644| 12339.5934|        362.3952| 7745.8618|    2482.8294|    436.7663|  6846.2887|      306.7009|   130.0654|\n",
      "|10_01_147_CHR10|28263.8229| 12339.5934|       1130.1423| 7745.6773|    2269.5714|    411.4239|  7512.3937|       282.466|   128.9579|\n",
      "|10_01_147_CHR01|28866.0065| 12339.5934|         426.978| 7747.9904|    2709.3654|     275.821|  7195.2758|      157.7963|   118.0247|\n",
      "|10_01_147_CHR24|26227.1599| 12339.5934|       1072.0628| 7735.6048|    2180.7301|    239.1873|  7592.0863|         135.5|   103.6873|\n",
      "|10_01_147_CHR39|28109.1286| 12339.5934|        855.3544| 7740.9313|    2596.7138|    319.8425|   7571.343|      216.4979|   103.3446|\n",
      "|10_01_147_CHR11|25930.2839| 12339.5934|       1122.9289| 7739.2261|    2968.8605|    341.7158|  8440.4224|      275.2415|    66.4743|\n",
      "| 10_01_147_CHS1|27396.2411| 12339.5934|        796.9242| 7743.6123|    2615.9827|     224.064|  7633.1953|      162.1966|    61.8674|\n",
      "|10_01_147_CHR30|26042.0516| 12339.5934|       1075.4547| 7734.5449|    2435.1223|    357.5072|  7866.5271|      335.1807|    22.3265|\n",
      "|10_01_147_CHR44|28779.6456| 12339.5934|        807.5923| 7742.9863|    1155.9831|    145.9753|  6121.6692|      131.5924|    14.3829|\n",
      "| 10_01_147_CHR1|26114.1099| 12339.5934|       1028.9382| 7740.0564|    2938.6509|    257.2938|  8320.4636|       246.303|    10.9909|\n",
      "+---------------+----------+-----------+----------------+----------+-------------+------------+-----------+--------------+-----------+\n",
      "only showing top 10 rows\n",
      "\n"
     ]
    },
    {
     "name": "stderr",
     "output_type": "stream",
     "text": [
      "                                                                                \r"
     ]
    }
   ],
   "source": [
    "dataframe_format_float(process_time_period(TimePeriod.Year, \"2023-04-10\")).show(n=10);"
   ]
  },
  {
   "cell_type": "code",
   "execution_count": null,
   "id": "d42ab0ae-d4bc-46cb-986e-2df275affb1c",
   "metadata": {},
   "outputs": [],
   "source": []
  }
 ],
 "metadata": {
  "kernelspec": {
   "display_name": "Python 3 (ipykernel)",
   "language": "python",
   "name": "python3"
  },
  "language_info": {
   "codemirror_mode": {
    "name": "ipython",
    "version": 3
   },
   "file_extension": ".py",
   "mimetype": "text/x-python",
   "name": "python",
   "nbconvert_exporter": "python",
   "pygments_lexer": "ipython3",
   "version": "3.11.8"
  }
 },
 "nbformat": 4,
 "nbformat_minor": 5
}
